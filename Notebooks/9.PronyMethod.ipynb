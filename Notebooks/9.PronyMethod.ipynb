{
 "cells": [
  {
   "cell_type": "markdown",
   "metadata": {},
   "source": [
    "### Signal Modelling - 2\n",
    "\n",
    "Author : Arun Prakash A, arunprakash.ece@kongu.ac.in <br>\n",
    "\n",
    " * Pade approximation is good for the interval (0,p+q). However, it provides no clue about the approximated values after the interval.\n",
    " * In this notebook, we implement the **Prony's Method** for model parameter estimation.\n"
   ]
  },
  {
   "cell_type": "code",
   "execution_count": 1,
   "metadata": {},
   "outputs": [],
   "source": [
    "import numpy as np\n",
    "from scipy import linalg as lalg\n",
    "from scipy import signal as sig\n",
    "from matplotlib import pyplot as plt"
   ]
  },
  {
   "cell_type": "markdown",
   "metadata": {},
   "source": [
    " * $ x(n), \\ n=0,1,2,...,N-1$\n",
    " * Normal Equation : $$ \\sum_{l=1}^{p}a_p(l)r_x(k,l)=-r_x(k,0) \\ \\ \\ \\ \\text{(eq.1)}$$ where, $k=1,..,p$.\n",
    "  $$ r_x(k,l) = \\sum_{n=q+1}^{\\infty} x(n-l)x(n-k),\\text{where} N \\to \\infty$$\n",
    " \n",
    " * When, say, $q=0$, the index $n$ starts from 1 and slides upto $x[1-p]$.Therefore, if $p>1$ the index becomes negative.We restrict $q < p$ and $p+q < N$, where $N$ is the length of the sequence padded with zeros.\n",
    " \n",
    " * As we increase the value of $q>0$, and if $q+1 < p$, then $p-(q+1)$ zeros have to be padded with x(n). Since $p>q$ always, we append $p-1$ zeros at both the ends of the sequence.\n",
    " "
   ]
  },
  {
   "cell_type": "code",
   "execution_count": 2,
   "metadata": {},
   "outputs": [],
   "source": [
    "N = 5\n",
    "p = 3\n",
    "q = 1\n",
    "x = np.ones(N)"
   ]
  },
  {
   "cell_type": "markdown",
   "metadata": {},
   "source": [
    "**Implementing Left side of Eq.1**"
   ]
  },
  {
   "cell_type": "code",
   "execution_count": 3,
   "metadata": {},
   "outputs": [],
   "source": [
    "def corr(x,p,q):\n",
    "    xpad = np.concatenate((np.zeros(p-1),x,np.zeros(p-1)))\n",
    "    Q = (q+1)+(p-1)  # q+1 in the equation changes to q+p-1 due to padding\n",
    "    temp = []\n",
    "    for n in range(Q,len(xpad)):  \n",
    "        #print(n,n-p-1)\n",
    "        temp.append(xpad[n:(n-p-1):-1]) # elements are taken in a reverse order    \n",
    "    Xq = np.vstack(temp)\n",
    "    rx_1p = np.matmul(Xq.T,Xq) \n",
    "    return (Xq,rx_1p)"
   ]
  },
  {
   "cell_type": "code",
   "execution_count": 4,
   "metadata": {},
   "outputs": [],
   "source": [
    "(xq,rx) = corr(x,p,q)"
   ]
  },
  {
   "cell_type": "markdown",
   "metadata": {},
   "source": [
    "**Obtaining right side correlation matrix of Eq.1**\n",
    " $$ r_x(k,0) = \\sum_{n=q+1}^{\\infty} x(n)x(n-k),\\text{where} N \\to \\infty$$\n",
    " \n",
    " * We need not to recompute this again,we set $l=0$ instead of $l=1$ for $x(n-l)$ in the above function definition to obtain the augmented correlation matrix. Therefore, the first column in the matrix is the correlation vector of $r_x(k,0)$.\n",
    " * Rememeber $r_x(k,0)$ is a column vector of shape $p \\times 1$ as $ k \\in \\{1,2,..p\\}$"
   ]
  },
  {
   "cell_type": "code",
   "execution_count": 5,
   "metadata": {},
   "outputs": [
    {
     "name": "stdout",
     "output_type": "stream",
     "text": [
      "The data matrix Xq: \n",
      " \n",
      " [[1. 1. 1. 0.]\n",
      " [1. 1. 1. 1.]\n",
      " [1. 1. 1. 1.]\n",
      " [0. 1. 1. 1.]\n",
      " [0. 0. 1. 1.]]\n",
      "\n",
      " The augmented correlation matrix: \n",
      " \n",
      " [[3. 3. 3. 2.]\n",
      " [3. 4. 4. 3.]\n",
      " [3. 4. 5. 4.]\n",
      " [2. 3. 4. 4.]]\n",
      "\n",
      " The left correlation matrix rx(k,l): \n",
      " \n",
      " [[4. 4. 3.]\n",
      " [4. 5. 4.]\n",
      " [3. 4. 4.]]\n",
      "\n",
      " The right correlation vector rx(k,0) : \n",
      " \n",
      " [3. 3. 2.]\n"
     ]
    }
   ],
   "source": [
    "rx_left = rx[1:,1:]\n",
    "rx_right = rx[1:,0]\n",
    "print('The data matrix Xq: \\n \\n',xq)\n",
    "print('\\n The augmented correlation matrix: \\n \\n',rx)\n",
    "print('\\n The left correlation matrix rx(k,l): \\n \\n',rx_left)\n",
    "print('\\n The right correlation vector rx(k,0) : \\n \\n',rx_right)      "
   ]
  },
  {
   "cell_type": "markdown",
   "metadata": {},
   "source": [
    "**obtaining the Denominator coefficients**"
   ]
  },
  {
   "cell_type": "code",
   "execution_count": 6,
   "metadata": {},
   "outputs": [],
   "source": [
    "inv = lalg.pinv(rx_left)\n",
    "ap_k = np.matmul(inv,-1*rx_right)\n",
    "den_coef = np.insert(ap_k,0,1)"
   ]
  },
  {
   "cell_type": "markdown",
   "metadata": {},
   "source": [
    "**obtaining Numerator coefficient**"
   ]
  },
  {
   "cell_type": "code",
   "execution_count": 7,
   "metadata": {},
   "outputs": [],
   "source": [
    "bn = np.convolve(x,den_coef)\n",
    "num_coef = bn[0:q+1] "
   ]
  },
  {
   "cell_type": "code",
   "execution_count": 8,
   "metadata": {},
   "outputs": [],
   "source": [
    "def prony(x,p,q):  \n",
    "    \n",
    "    (xq,rx) = corr(x,p,q)\n",
    "    rx_left = rx[1:,1:]\n",
    "    rx_right = rx[1:,0]\n",
    "    inv = lalg.pinv(rx_left)\n",
    "    ap_k = np.matmul(inv,-1*rx_right)\n",
    "    den_coef = np.insert(ap_k,0,1)\n",
    "    bn = np.convolve(x,den_coef)\n",
    "    num_coef = bn[0:q+1] \n",
    "    impulse = np.zeros(100)\n",
    "    impulse[0]=1\n",
    "    yn = sig.lfilter(num_coef,den_coef,impulse)\n",
    "    \n",
    "    return yn,rx,den_coef"
   ]
  },
  {
   "cell_type": "code",
   "execution_count": 9,
   "metadata": {},
   "outputs": [
    {
     "data": {
      "image/png": "[encoded data removed]",
      "text/plain": [
       "<Figure size 576x432 with 3 Axes>"
      ]
     },
     "metadata": {
      "needs_background": "light"
     },
     "output_type": "display_data"
    }
   ],
   "source": [
    "n = np.arange(100)\n",
    "x = np.sin(0.25*np.pi*n)+(0.75)**n\n",
    "yn,rx,den_coef = prony(x,p=80,q=10)\n",
    "fig,ax = plt.subplots(3,1,figsize=(8,6))\n",
    "ax[0].stem(x,use_line_collection=True)\n",
    "ax[1].stem(yn,use_line_collection=True)\n",
    "ax[2].stem(np.abs(yn-x),use_line_collection=True)\n",
    "ax[0].set_title('Original Sequence')\n",
    "ax[1].set_title('Prony ARMA(80,10) Approximation')\n",
    "ax[2].set_title('Absolute Error')\n",
    "ax[2].set_xlabel('index n')\n",
    "fig.tight_layout()"
   ]
  },
  {
   "cell_type": "code",
   "execution_count": 12,
   "metadata": {},
   "outputs": [],
   "source": [
    "q=10\n",
    "error = []\n",
    "for p in range (10,80):\n",
    "    yn,_,_ = prony(x,p,q)\n",
    "    error.append(np.sum(np.square(np.abs(yn[q+1:]-x[q+1:]))))\n",
    "q = np.arange(10,80)"
   ]
  },
  {
   "cell_type": "code",
   "execution_count": 13,
   "metadata": {},
   "outputs": [
    {
     "data": {
      "image/png": "[encoded data removed]",
      "text/plain": [
       "<Figure size 432x288 with 1 Axes>"
      ]
     },
     "metadata": {
      "needs_background": "light"
     },
     "output_type": "display_data"
    }
   ],
   "source": [
    "plt.plot(q,error)\n",
    "plt.xlabel('p')\n",
    "plt.ylabel('ASE')\n",
    "plt.title('Order of P vs Absolute Square Error')\n",
    "plt.grid()\n",
    "plt.show()"
   ]
  },
  {
   "cell_type": "markdown",
   "metadata": {},
   "source": [
    "* Recall that the **Prony method** gives zero error over the interval $0 \\to q$ (because, numerator coefficients  $b_q(n)$ are found by setting $e(n)=a_p(n)*x(n)-b_q(n) = 0, \\therefore,b_q(n)=a_p(n)*x(n)$) \n",
    "* Minimizes Absolute square error for samples considered after $n=q+1$, that is,  $x(n), \\text{for} n \\in \\{q+1,..,\\infty\\}$  \n",
    "* It also provides the bound on the error for the given order $p$.\n",
    "\n",
    "$$ \\zeta_{p,q} = r_x(0,0)+\\sum_{k=1}^{p}a_p(k)r_x(0,k)$$"
   ]
  },
  {
   "cell_type": "code",
   "execution_count": 14,
   "metadata": {},
   "outputs": [
    {
     "data": {
      "text/plain": [
       "0.48293619856187636"
      ]
     },
     "execution_count": 14,
     "metadata": {},
     "output_type": "execute_result"
    }
   ],
   "source": [
    "# for q=10,p=80\n",
    "np.sum(rx[0,:]*den_coef)"
   ]
  },
  {
   "cell_type": "markdown",
   "metadata": {},
   "source": [
    "**SHanks Method**\n",
    "\n",
    " * We know that the numerator coefficients  $b_q(n)$ are found by setting $e(n)=a_p(n)*x(n)-b_q(n) = 0, \\therefore,b_q(n)=a_p(n)*x(n)$, **is there any other way?**"
   ]
  }
 ],
 "metadata": {
  "kernelspec": {
   "display_name": "Python 3",
   "language": "python",
   "name": "python3"
  },
  "language_info": {
   "codemirror_mode": {
    "name": "ipython",
    "version": 3
   },
   "file_extension": ".py",
   "mimetype": "text/x-python",
   "name": "python",
   "nbconvert_exporter": "python",
   "pygments_lexer": "ipython3",
   "version": "3.7.3"
  }
 },
 "nbformat": 4,
 "nbformat_minor": 4
}
