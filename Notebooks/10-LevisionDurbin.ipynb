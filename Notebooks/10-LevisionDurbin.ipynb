{
 "cells": [
  {
   "cell_type": "markdown",
   "metadata": {},
   "source": [
    "### Levinsion Durbin Recursion"
   ]
  },
  {
   "cell_type": "markdown",
   "metadata": {},
   "source": [
    "Author: Arun Prakash, mail:arunprakash.ece@kongu.ac.in\n",
    "\n",
    " * We have many methods for solving system of Equations of the form $Ax=b$. However, when $A$ is a Toeplitz matrix, using Levinsion-Durbin Recursion algorithm takes much lesser computation.\n",
    " * These type of matrices arises in all-pole modelling of a random process (Recall, Pade and Prony Approximation)\n",
    " * The sequential steps involved in obtaining a solution recursively are as follows\n",
    "     1. Initialization: $ap[0]=1, \\epsilon=r_x[0]$\n",
    "     2. The filter order is $p = len(rx)$\n",
    "     3. for **j:0,1,..p-1:** <br> \n",
    "\n",
    "      i.)   $\\gamma_j =r_x(j+1)+\\sum_{i=1}^{j}a_p(i)r_x(j+1-i)$ <br>\n",
    "      ii.)  $\\Gamma_{j+1} = - \\frac{\\gamma_j}{\\epsilon_j}$, $\\epsilon_{j+1}=\\epsilon_j(1-\\Gamma_{j+1}^2)$ <br>\n",
    "      iii.) Update filter coefficients upto $j^{th}$ order. <br>\n",
    "      iv.) Filter coefficient at $j+1$ = $\\Gamma_{j+1}$ <br>\n",
    "     \n",
    " * Don't afriad of the above equations. Try to vectorize the code. (Ofcourse, use paper and pen before start writing the code)\n"
   ]
  },
  {
   "cell_type": "code",
   "execution_count": 1,
   "metadata": {},
   "outputs": [],
   "source": [
    "import numpy as np\n",
    "from scipy import signal as sig\n",
    "from  scipy import linalg as lalg\n",
    "from matplotlib import pyplot as plt"
   ]
  },
  {
   "cell_type": "markdown",
   "metadata": {},
   "source": [
    "**Let us start with an example and solve the problem with the function built-in with scipy**"
   ]
  },
  {
   "cell_type": "code",
   "execution_count": 2,
   "metadata": {},
   "outputs": [
    {
     "name": "stdout",
     "output_type": "stream",
     "text": [
      "[[1.   0.5  0.5  0.25 0.1 ]\n",
      " [0.5  1.   0.5  0.5  0.25]\n",
      " [0.5  0.5  1.   0.5  0.5 ]\n",
      " [0.25 0.5  0.5  1.   0.5 ]\n",
      " [0.1  0.25 0.5  0.5  1.  ]]\n"
     ]
    }
   ],
   "source": [
    "rx = np.array([1,0.5,0.5,0.25,0.1,0.05])\n",
    "p = len(rx)-1\n",
    "rx_toe = lalg.toeplitz(rx[0:p])\n",
    "right = -1*rx[1:]\n",
    "print(rx_toe)"
   ]
  },
  {
   "cell_type": "code",
   "execution_count": 3,
   "metadata": {},
   "outputs": [
    {
     "name": "stdout",
     "output_type": "stream",
     "text": [
      "[ 1.         -0.35896474 -0.44493623  0.07325581  0.19377344 -0.0363841 ]\n"
     ]
    }
   ],
   "source": [
    "c = rx_toe[:,0] # get the coloumn of rx\n",
    "r = c # row =  col due to symmetry\n",
    "ap_k = lalg.solve_toeplitz((c,r), right)\n",
    "ap_k = np.insert(ap_k,0,1)\n",
    "print(ap_k)"
   ]
  },
  {
   "cell_type": "markdown",
   "metadata": {},
   "source": [
    "**That's great, but implementing the algorithm based on our understanding is always fun and also gives us a sense of satisfication**. Let us code.."
   ]
  },
  {
   "cell_type": "code",
   "execution_count": 4,
   "metadata": {},
   "outputs": [],
   "source": [
    "def levinsion(rx, verbose=False):\n",
    "    p = len(rx)-1\n",
    "\n",
    "    # initializatio \n",
    "    ap = np.array([1])\n",
    "    epsilon= rx[0]\n",
    "    \n",
    "    \n",
    "    for j in range(0,p):   \n",
    "        \n",
    "        ap = np.insert(ap,len(ap),0)\n",
    "        #print(ap)\n",
    "        if j==0:\n",
    "            gamma = rx[1]\n",
    "        else:\n",
    "            gamma = np.sum(rx[j+1:0:-1]*ap[0:j+1])       \n",
    "        Gamma = -1*(gamma/epsilon)\n",
    "        epsilon = epsilon*(1-np.abs(Gamma)**2)         \n",
    "        ap = ap+(Gamma*ap[-1::-1])\n",
    "        ap[j+1] = Gamma\n",
    "\n",
    "        if verbose:\n",
    "            print('Iteration:{0} \\t gamma:{1} \\t Gamma:{2} \\t epsilon:{3} \\t ap:{4}'.format(j,gamma,Gamma,epsilon,ap))\n",
    "    return ap,np.sqrt(epsilon)"
   ]
  },
  {
   "cell_type": "code",
   "execution_count": 5,
   "metadata": {},
   "outputs": [
    {
     "name": "stdout",
     "output_type": "stream",
     "text": [
      "The Denominator Coeff: \n",
      "  [ 1.         -0.35896474 -0.44493623  0.07325581  0.19377344 -0.0363841 ]\n",
      "The Numerator Coeffi: \n",
      " 0.796191940050482\n"
     ]
    }
   ],
   "source": [
    "ap,epsilon = levinsion(rx,verbose=False)    \n",
    "print('The Denominator Coeff: \\n ',ap)\n",
    "print('The Numerator Coeffi: \\n',epsilon)\n"
   ]
  },
  {
   "cell_type": "markdown",
   "metadata": {},
   "source": [
    "**Generate a Process**\n",
    "\n",
    " * Let us generate a well known first order AR(1) process by filtering a white noise using the following filter transfer function $$ H(z) = \\frac{1}{1-\\alpha z^{-1}}$$. Assuming the white noise have unit variance, it produces autocorrelation relation $$ r_x(k) = \\frac{1}{1-\\alpha^2}\\alpha^{|k|}$$\n",
    " \n",
    "**Estimate the process**\n",
    "\n",
    " * Given the sample realizations of the process $x(n)$, our first step is to compute the autocorrelation of the process which takes $N(p+1)$ comptations.\n",
    " * Then, we make use of LD recursion to estimate the filter coefficients that generated the process (Remember, we were not given the actual filter order that generated the process)."
   ]
  },
  {
   "cell_type": "code",
   "execution_count": 6,
   "metadata": {},
   "outputs": [],
   "source": [
    "N = 1000\n",
    "vn = np.random.randn(N)\n",
    "num = np.array([1])\n",
    "den = np.array([1,-0.5])\n",
    "xn = sig.lfilter(num,den,vn)\n",
    "k = 10 # lags\n",
    "alpha = 0.5\n",
    "rx_actual = (1/(1-(alpha)**2))*np.power(alpha,np.arange(k))"
   ]
  },
  {
   "cell_type": "markdown",
   "metadata": {},
   "source": [
    "Since we know that the process is **Ergodic (Ensemble average = Time average)**, we can use the following equation to compute the sample autocorrelation of the sequence $x(n)$ <br>\n",
    "\n",
    "$$ \\tilde{r}_x(k) = \\frac{1}{N} \\sum_{n=0}^{N-1} x(n)x(n-k)$$\n",
    "which is convolution sum formula. We can either implement the formula or make use of **np.correlate** function comes with numpy."
   ]
  },
  {
   "cell_type": "code",
   "execution_count": 7,
   "metadata": {},
   "outputs": [],
   "source": [
    "\n",
    "xnk = np.insert(xn,[0],np.zeros(k)) # append zeros for negative indexing\n",
    "rx = np.zeros(k) # initialization\n",
    "m = k# start index of xnk from m-k\n",
    "l = len(xnk) # ending index for xnk during slicing operation\n",
    "for lag in np.arange(k):\n",
    "    rx[lag] = np.dot(xn,xnk[m-lag:l-lag])\n",
    "rx = (1/N)*rx"
   ]
  },
  {
   "cell_type": "code",
   "execution_count": 8,
   "metadata": {},
   "outputs": [],
   "source": [
    "# using numpy inbuilt\n",
    "# rx = (1/N)*np.correlate(xn,xn,mode='same')\n",
    "# rx = rx[(N/2):(N/2)+k]"
   ]
  },
  {
   "cell_type": "code",
   "execution_count": 9,
   "metadata": {},
   "outputs": [
    {
     "data": {
      "image/png": "[encoded data removed]",
      "text/plain": [
       "<Figure size 576x288 with 1 Axes>"
      ]
     },
     "metadata": {
      "needs_background": "light"
     },
     "output_type": "display_data"
    }
   ],
   "source": [
    "n = np.arange(k)+0.1 # just move a plot to little right\n",
    "fig,ax = plt.subplots(1,1,figsize=(8,4))\n",
    "ax.stem(rx_actual,use_line_collection=True,label='Actual')\n",
    "ax.stem(n,rx,linefmt='C1--',use_line_collection=True,label='Estimate')\n",
    "ax.set_xlabel('lag')\n",
    "ax.set_title('AutoCorrelation')\n",
    "ax.legend()\n",
    "fig.tight_layout()"
   ]
  },
  {
   "cell_type": "code",
   "execution_count": 10,
   "metadata": {},
   "outputs": [
    {
     "name": "stdout",
     "output_type": "stream",
     "text": [
      "[ 1.00000000e+00 -4.73271902e-01  1.45620880e-02 -1.47647648e-02\n",
      " -6.01169378e-03 -1.85446936e-02 -6.53561550e-04 -2.02218054e-02\n",
      "  3.11182939e-02  2.14742420e-03] 0.9568310873993382\n"
     ]
    }
   ],
   "source": [
    "num,den = levinsion(rx)\n",
    "print(num,den)"
   ]
  },
  {
   "cell_type": "markdown",
   "metadata": {},
   "source": [
    "**What Next?**\n",
    "\n",
    " * Let us buid a filter with the obtained system transfer function and pass the white noise $v(n)$ through it.\n",
    " * Compute the MSE\n",
    " * Since we know that it is AR(1) model that generated the process, it would be interesting to see how the model error **Changes** as we increase the model order."
   ]
  },
  {
   "cell_type": "code",
   "execution_count": 11,
   "metadata": {},
   "outputs": [],
   "source": [
    "xn_estimate = sig.lfilter(num,den,vn)"
   ]
  },
  {
   "cell_type": "code",
   "execution_count": 12,
   "metadata": {},
   "outputs": [],
   "source": [
    "mse = (1/N)*np.sum((xn-xn_estimate)**2)"
   ]
  },
  {
   "cell_type": "code",
   "execution_count": 13,
   "metadata": {},
   "outputs": [],
   "source": [
    "# AR(1,2,3,...,p)\n",
    "p = 10\n",
    "mse = []\n",
    "for k in np.arange(p):\n",
    "    num,den = levinsion(rx[0:k+2])\n",
    "    #print(num,den)\n",
    "    xn_estimate = sig.lfilter(num,den,vn)\n",
    "    mse.append((1/N)*np.sum((xn-xn_estimate)**2))"
   ]
  },
  {
   "cell_type": "code",
   "execution_count": 14,
   "metadata": {},
   "outputs": [
    {
     "data": {
      "image/png": "[encoded data removed]",
      "text/plain": [
       "<Figure size 432x288 with 1 Axes>"
      ]
     },
     "metadata": {
      "needs_background": "light"
     },
     "output_type": "display_data"
    }
   ],
   "source": [
    "n=np.arange(1,11)\n",
    "plt.stem(n,mse,use_line_collection=True)\n",
    "plt.xlabel('p')\n",
    "plt.ylabel('MSE')\n",
    "plt.title('MSE vs Model Order')\n",
    "plt.show()"
   ]
  },
  {
   "cell_type": "markdown",
   "metadata": {},
   "source": [
    "**Surprise!**\n",
    "\n",
    " * The model error doesn't change, you can justify it by looking at the numerator and denominator coefficients displayed in the cell below as the model order increases.\n",
    " \n",
    " * The denominator remains 0.98 (Actual=1), ap[1] = -0.48 (Actual=-0.5), the remaining coefficients contributes less."
   ]
  },
  {
   "cell_type": "code",
   "execution_count": 15,
   "metadata": {},
   "outputs": [
    {
     "name": "stdout",
     "output_type": "stream",
     "text": [
      "Order:0,\t Num:[ 1.         -0.47168503],\t Den0.9578635843901845\n",
      "Order:1,\t Num:[ 1.         -0.47378695  0.00445619],\t Den0.9578540738875962\n",
      "Order:2,\t Num:[ 1.         -0.47388117  0.01447359 -0.02114326],\t Den0.9576399517156942\n",
      "Order:3,\t Num:[ 1.         -0.47356164  0.01425486 -0.01398166 -0.01511264],\t Den0.9575305868706292\n"
     ]
    }
   ],
   "source": [
    "# AR(1,2,3,...,p)\n",
    "p = 4\n",
    "for k in np.arange(p):\n",
    "    num,den = levinsion(rx[0:k+2])\n",
    "    print('Order:{0},\\t Num:{1},\\t Den{2}'.format(k,num,den))"
   ]
  }
 ],
 "metadata": {
  "kernelspec": {
   "display_name": "Python 3",
   "language": "python",
   "name": "python3"
  },
  "language_info": {
   "codemirror_mode": {
    "name": "ipython",
    "version": 3
   },
   "file_extension": ".py",
   "mimetype": "text/x-python",
   "name": "python",
   "nbconvert_exporter": "python",
   "pygments_lexer": "ipython3",
   "version": "3.7.3"
  }
 },
 "nbformat": 4,
 "nbformat_minor": 4
}
